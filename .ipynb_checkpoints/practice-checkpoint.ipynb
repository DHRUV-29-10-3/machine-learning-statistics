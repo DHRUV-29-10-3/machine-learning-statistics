{
 "cells": [
  {
   "cell_type": "code",
   "execution_count": 11,
   "id": "e249c5d2-64c7-4702-a246-dc1a684fa7fb",
   "metadata": {},
   "outputs": [],
   "source": [
    "import pandas as pd\n",
    "import seaborn as sns\n",
    "import statistics as s\n",
    "import numpy as np"
   ]
  },
  {
   "cell_type": "code",
   "execution_count": 24,
   "id": "15715d66-18a8-4243-801e-740418323530",
   "metadata": {},
   "outputs": [],
   "source": [
    "data=pd.DataFrame([2,3,4,5,6,7])\n"
   ]
  },
  {
   "cell_type": "code",
   "execution_count": 21,
   "id": "5c581eae-eac7-4d8e-99b4-97eb76dc545b",
   "metadata": {},
   "outputs": [
    {
     "data": {
      "text/plain": [
       "1.8708286933869707"
      ]
     },
     "execution_count": 21,
     "metadata": {},
     "output_type": "execute_result"
    }
   ],
   "source": [
    "SD = data[0].std()\n",
    "SD"
   ]
  },
  {
   "cell_type": "code",
   "execution_count": 23,
   "id": "e1810c6a-139e-429a-82b3-65bbc285efe8",
   "metadata": {},
   "outputs": [
    {
     "data": {
      "text/plain": [
       "4.5"
      ]
     },
     "execution_count": 23,
     "metadata": {},
     "output_type": "execute_result"
    }
   ],
   "source": [
    "mean = s.mean(data[0])\n",
    "mean"
   ]
  },
  {
   "cell_type": "code",
   "execution_count": null,
   "id": "d525bb4f-53e0-410e-a8bf-d6f01b674efd",
   "metadata": {},
   "outputs": [],
   "source": [
    "dataset = []"
   ]
  }
 ],
 "metadata": {
  "kernelspec": {
   "display_name": "Python 3 (ipykernel)",
   "language": "python",
   "name": "python3"
  },
  "language_info": {
   "codemirror_mode": {
    "name": "ipython",
    "version": 3
   },
   "file_extension": ".py",
   "mimetype": "text/x-python",
   "name": "python",
   "nbconvert_exporter": "python",
   "pygments_lexer": "ipython3",
   "version": "3.11.4"
  },
  "widgets": {
   "application/vnd.jupyter.widget-state+json": {
    "state": {},
    "version_major": 2,
    "version_minor": 0
   }
  }
 },
 "nbformat": 4,
 "nbformat_minor": 5
}
